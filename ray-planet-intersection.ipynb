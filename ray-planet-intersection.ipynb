{
 "cells": [
  {
   "cell_type": "code",
   "execution_count": 39,
   "metadata": {
    "collapsed": true
   },
   "outputs": [],
   "source": [
    "%matplotlib inline\n",
    "import numpy as np\n",
    "import matplotlib.pyplot as plt\n",
    "\n",
    "from glsl_helpers import *"
   ]
  },
  {
   "cell_type": "code",
   "execution_count": 40,
   "metadata": {
    "collapsed": false
   },
   "outputs": [
    {
     "name": "stdout",
     "output_type": "stream",
     "text": [
      "0.0334076552391\n",
      "0.267261241912\n",
      "1.83184689522\n"
     ]
    }
   ],
   "source": [
    "PLANET_RADIUS = 0.4\n",
    "PLANET_DISTANCE = 8.0\n",
    "\n",
    "PLANET_ORBITAL_ANG_VEL = 1.0 / sqrt(2.0*(PLANET_DISTANCE-1.0)) / PLANET_DISTANCE\n",
    "MAX_PLANET_ROT = (1.0 - PLANET_ORBITAL_ANG_VEL*PLANET_DISTANCE) / PLANET_RADIUS\n",
    "PLANET_ROTATION_ANG_VEL = -PLANET_ORBITAL_ANG_VEL + MAX_PLANET_ROT * 0.5\n",
    "\n",
    "def circle(x0, y0, r, res = 100):\n",
    "    z = np.exp(1j * np.linspace(0,2*np.pi, res, endpoint=True))*r\n",
    "    return (np.real(z)+x0, np.imag(z)+y0)\n",
    "\n",
    "print PLANET_ORBITAL_ANG_VEL\n",
    "print PLANET_ORBITAL_ANG_VEL*PLANET_DISTANCE\n",
    "print MAX_PLANET_ROT"
   ]
  },
  {
   "cell_type": "code",
   "execution_count": 42,
   "metadata": {
    "collapsed": false
   },
   "outputs": [
    {
     "data": {
      "image/png": "[encoded data removed]",
      "text/plain": [
       "<matplotlib.figure.Figure at 0x7f3d182eecd0>"
      ]
     },
     "metadata": {},
     "output_type": "display_data"
    }
   ],
   "source": [
    "def visualize(pos, ray, t = 0.0, dt = 0.5, n_steps = 20, ray_length=None):\n",
    "    \n",
    "    pos = np.ravel(pos)*1.0\n",
    "    ray = np.ravel(ray)*1.0\n",
    "    \n",
    "    if ray_length is not None:\n",
    "        ray = normalize(ray)*ray_length\n",
    "        \n",
    "    cmap = plt.cm.jet # using Jet is totally fine here\n",
    "    \n",
    "    for relstep in np.linspace(0, 1, n_steps):\n",
    "        \n",
    "        planet_ang = t * PLANET_ORBITAL_ANG_VEL\n",
    "        planet_pos = vec3(cos(planet_ang), sin(planet_ang), 0)*PLANET_DISTANCE\n",
    "        \n",
    "        pos += ray*dt\n",
    "        \n",
    "        cx, cy = circle(planet_pos[0], planet_pos[1], PLANET_RADIUS)\n",
    "        plt.plot(cx, cy, color=cmap(relstep))\n",
    "        plt.plot(pos[0], pos[1], 'o', color=cmap(relstep))\n",
    "        \n",
    "        t -= dt\n",
    "\n",
    "    #scale = PLANET_DISTANCE+PLANET_RADIUS*2\n",
    "    #plt.xlim([-scale, scale])\n",
    "    #plt.ylim([-scale, scale])\n",
    "    #plt.axis('off')\n",
    "    plt.axes().set_aspect('equal', 'datalim')\n",
    "    \n",
    "    #plt.gcf().set_size_inches(15,15)\n",
    "visualize((0,0,0), (1,0,0))"
   ]
  }
 ],
 "metadata": {
  "kernelspec": {
   "display_name": "Python 2",
   "language": "python",
   "name": "python2"
  },
  "language_info": {
   "codemirror_mode": {
    "name": "ipython",
    "version": 2
   },
   "file_extension": ".py",
   "mimetype": "text/x-python",
   "name": "python",
   "nbconvert_exporter": "python",
   "pygments_lexer": "ipython2",
   "version": "2.7.9"
  }
 },
 "nbformat": 4,
 "nbformat_minor": 0
}
