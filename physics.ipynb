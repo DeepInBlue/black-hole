{
 "cells": [
  {
   "cell_type": "markdown",
   "metadata": {},
   "source": [
    "As usual in raytracing, each sample (pixel) in the image corresponds to a path starting from the position $\\boldsymbol p = (x_0, y_0, z_0)$ of the camera, travelling initially to a direction $\\boldsymbol d \\in \\mathbb R^3$ specified by the camera coordinate system.\n",
    "The path represents the photons arriving to the camera from that direction. \n",
    "Instead of travelling in straight lines until hitting an object, the path solves photonic geodesic equation in the Schwarzschild space-time, which in certain units and radial coordinates $(t,r,\\theta,\\phi)$ is\n",
    "\n",
    "$$\n",
    "\\def\\d{{\\rm d}}\n",
    "%\n",
    "    \\d s^2 = \\left(1-\\frac1r\\right)\\d t^2 + \\left(1-\\frac1r\\right)^{-1} \\d r^2 - r^2(\\d \\theta^2-\\sin^2\\theta \\cdot \\d \\phi^2) = 0\n",
    "$$\n",
    "\n",
    "Even though not very obviously (see, e.g., [this][1] and [this page][2]), for paths with $\\theta = \\frac\\pi2$, this gives the ordinary differential equation\n",
    "\n",
    "$$\n",
    "    u''(\\phi) = -u(\\phi) \\left(1-\\frac32u^2(\\phi)\\right),\n",
    "$$\n",
    "\n",
    "where $u := 1/r$.\n",
    "\n",
    "[1]: https://en.wikipedia.org/wiki/Schwarzschild_geodesics\n",
    "[2]: http://spiro.fisica.unipd.it/~antonell/schwarzschild/"
   ]
  },
  {
   "cell_type": "markdown",
   "metadata": {},
   "source": [
    "To solve this in the raytracer, I use the initial conditions\n",
    "\n",
    "$$\n",
    "\\def\\n{\\boldsymbol n}\n",
    "\\def\\p{\\boldsymbol p}\n",
    "\\def\\v{\\boldsymbol v}\n",
    "\\def\\t{\\boldsymbol t}\n",
    "\\def\\d{\\boldsymbol d}\n",
    "%\n",
    "    u(0) = \\frac1{\\|\\p\\|}, \\qquad \\qquad\n",
    "    u'(0) = \\frac{- \\d \\cdot \\n}{u(0) \\; \\d \\cdot \\t},\n",
    "$$\n",
    "\n",
    "where the tangential and normal components of $\\d$ are be computed using\n",
    "\n",
    "$$\n",
    "    \\n = \\frac{\\p}{\\|\\p\\|}\n",
    "    \\qquad \\mbox{ and } \\qquad\n",
    "    \\t = \\frac{(\\n \\times \\d) \\times \\n}{\\|(\\n \\times \\d) \\times \\n\\|}.\n",
    "$$\n",
    "\n",
    "The equation is integrated (simply by Euler's method) until either a maximum number of steps $N$ is reached or $u_j + \\Delta u_j < 0$, which signals that the ray _escapes_ at an angle $\\phi \\in (\\phi_j, \\phi_j + \\Delta \\phi_j)$."
   ]
  },
  {
   "cell_type": "markdown",
   "metadata": {},
   "source": [
    "To compute light travel times, i.e., the Schwarzschild time coordinate $t$ along the path, the numerical integration is amended with\n",
    "\n",
    "$$\n",
    " t'(\\phi) = -\\frac{\\sqrt{(u')^2 + u^2(1-u)}}{u^2(1-u)}.\n",
    "$$\n",
    "\n",
    "To compute $t$ in a reasonably visually accurate way, the step size $\\Delta \\phi_j$ of the integration is varied using an _ad hoc_ formula, in addition to using the classical approximation ${\\rm d}t^2 \\approx {\\rm d}x^2 + {\\rm d}y^2 + {\\rm d}z^2$ at large distances $r$ from the black hole."
   ]
  }
 ],
 "metadata": {
  "kernelspec": {
   "display_name": "Python 2",
   "language": "python",
   "name": "python2"
  },
  "language_info": {
   "codemirror_mode": {
    "name": "ipython",
    "version": 2
   },
   "file_extension": ".py",
   "mimetype": "text/x-python",
   "name": "python",
   "nbconvert_exporter": "python",
   "pygments_lexer": "ipython2",
   "version": "2.7.9"
  }
 },
 "nbformat": 4,
 "nbformat_minor": 0
}
